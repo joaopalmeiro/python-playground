{
 "cells": [
  {
   "cell_type": "code",
   "execution_count": 1,
   "id": "d322c244-e04f-4883-84fd-ff8df5c04a25",
   "metadata": {},
   "outputs": [],
   "source": [
    "from IPython.display import display"
   ]
  },
  {
   "cell_type": "code",
   "execution_count": 2,
   "id": "b84171ba-b61e-4d22-8488-ec6427b2e0e3",
   "metadata": {},
   "outputs": [
    {
     "data": {
      "application/vnd.vegalite.v4+json": {
       "$schema": "https://vega.github.io/schema/vega-lite/v4.json",
       "data": {
        "values": [
         {
          "a": "A",
          "b": 28
         },
         {
          "a": "B",
          "b": 55
         },
         {
          "a": "C",
          "b": 43
         },
         {
          "a": "D",
          "b": 91
         },
         {
          "a": "E",
          "b": 81
         },
         {
          "a": "F",
          "b": 53
         },
         {
          "a": "G",
          "b": 19
         },
         {
          "a": "H",
          "b": 87
         },
         {
          "a": "I",
          "b": 52
         }
        ]
       },
       "description": "A simple bar chart with embedded data.",
       "encoding": {
        "x": {
         "axis": {
          "labelAngle": 0
         },
         "field": "a",
         "type": "nominal"
        },
        "y": {
         "field": "b",
         "type": "quantitative"
        }
       },
       "mark": "bar"
      },
      "image/png": "[encoded data removed]"
     },
     "metadata": {
      "application/vnd.vegalite.v4+json": {
       "embed_options": {
        "downloadFileName": "via_vega_embed_button",
        "scaleFactor": 5
       }
      }
     },
     "output_type": "display_data"
    }
   ],
   "source": [
    "display(\n",
    "    {\n",
    "        \"application/vnd.vegalite.v4+json\": {\n",
    "            \"$schema\": \"https://vega.github.io/schema/vega-lite/v4.json\",\n",
    "            \"description\": \"A simple bar chart with embedded data.\",\n",
    "            \"data\": {\n",
    "                \"values\": [\n",
    "                    {\"a\": \"A\", \"b\": 28},\n",
    "                    {\"a\": \"B\", \"b\": 55},\n",
    "                    {\"a\": \"C\", \"b\": 43},\n",
    "                    {\"a\": \"D\", \"b\": 91},\n",
    "                    {\"a\": \"E\", \"b\": 81},\n",
    "                    {\"a\": \"F\", \"b\": 53},\n",
    "                    {\"a\": \"G\", \"b\": 19},\n",
    "                    {\"a\": \"H\", \"b\": 87},\n",
    "                    {\"a\": \"I\", \"b\": 52},\n",
    "                ]\n",
    "            },\n",
    "            \"mark\": \"bar\",\n",
    "            \"encoding\": {\n",
    "                \"x\": {\"field\": \"a\", \"type\": \"nominal\", \"axis\": {\"labelAngle\": 0}},\n",
    "                \"y\": {\"field\": \"b\", \"type\": \"quantitative\"},\n",
    "            },\n",
    "        }\n",
    "    },\n",
    "    metadata={\n",
    "        \"application/vnd.vegalite.v4+json\": {\n",
    "            \"embed_options\": {\n",
    "                \"scaleFactor\": 5,\n",
    "                \"downloadFileName\": \"via_vega_embed_button\",\n",
    "            }\n",
    "        }\n",
    "    },\n",
    "    raw=True,\n",
    ")"
   ]
  },
  {
   "cell_type": "markdown",
   "id": "697be0e8-d2c7-45d7-abd5-214be9785018",
   "metadata": {},
   "source": [
    "---"
   ]
  }
 ],
 "metadata": {
  "kernelspec": {
   "display_name": "Python 3 (ipykernel)",
   "language": "python",
   "name": "python3"
  },
  "language_info": {
   "codemirror_mode": {
    "name": "ipython",
    "version": 3
   },
   "file_extension": ".py",
   "mimetype": "text/x-python",
   "name": "python",
   "nbconvert_exporter": "python",
   "pygments_lexer": "ipython3",
   "version": "3.7.12"
  }
 },
 "nbformat": 4,
 "nbformat_minor": 5
}
