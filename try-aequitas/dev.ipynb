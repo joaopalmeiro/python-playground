{
 "cells": [
  {
   "cell_type": "markdown",
   "id": "fbfd4580-fd99-4ccc-92d4-a3f3b06b3d0d",
   "metadata": {},
   "source": [
    "# Try Aequitas"
   ]
  },
  {
   "cell_type": "markdown",
   "id": "0e0a803c-1193-491b-8564-0f8864dc859a",
   "metadata": {},
   "source": [
    "- https://github.com/dssg/aequitas/tree/master/src/aequitas/plot\n",
    "- https://github.com/dssg/aequitas/blob/master/src/aequitas/plot/__init__.py\n",
    "- https://github.com/dssg/aequitas/blob/master/src/aequitas/plot/xy_metrics_chart.py\n",
    "- https://github.com/dssg/aequitas/blob/master/src/aequitas/plot/summary_chart.py#L492\n",
    "- https://github.com/dssg/aequitas/tree/master/src/aequitas/plot/commons/style\n",
    "- https://github.com/dssg/aequitas/blob/master/src/aequitas/plot/commons/style/color.py\n",
    "- https://github.com/dssg/aequitas/blob/master/src/aequitas/plot/commons/style/text.py"
   ]
  },
  {
   "cell_type": "code",
   "execution_count": null,
   "id": "e1d90c0c-37d4-4bef-a093-1b3ef2c1008b",
   "metadata": {},
   "outputs": [],
   "source": [
    "import aequitas.plot as ap\n",
    "import altair as alt\n",
    "import pandas as pd\n",
    "from aequitas.bias import Bias\n",
    "from aequitas.group import Group\n",
    "from aequitas.plot.commons.style.color import (\n",
    "    BLUE,\n",
    "    CATEGORICAL_PALETTE_ALTERNATIVE,\n",
    "    GRAY,\n",
    "    LIGHT_GRAY,\n",
    "    ORANGE,\n",
    "    PINK,\n",
    "    PURPLE,\n",
    "    RED,\n",
    "    TEAL,\n",
    "    YELLOW,\n",
    ")\n",
    "from coloraide import Color"
   ]
  },
  {
   "cell_type": "code",
   "execution_count": null,
   "id": "86e0f47f-5221-4fe2-9bc4-2b2b83e46863",
   "metadata": {},
   "outputs": [],
   "source": [
    "alt.__version__"
   ]
  },
  {
   "cell_type": "code",
   "execution_count": null,
   "id": "ef49b647-d067-4898-a97d-e6863321d315",
   "metadata": {},
   "outputs": [],
   "source": [
    "df = pd.read_csv(\n",
    "    \"https://github.com/dssg/aequitas/raw/master/examples/data/compas_for_aequitas.csv\"\n",
    ")"
   ]
  },
  {
   "cell_type": "code",
   "execution_count": null,
   "id": "1de3530d-6d7d-40b9-ac17-cea5abb4c351",
   "metadata": {},
   "outputs": [],
   "source": [
    "df.head()"
   ]
  },
  {
   "cell_type": "code",
   "execution_count": null,
   "id": "2934cc1f-883f-4800-aae8-8b447eb9609a",
   "metadata": {},
   "outputs": [],
   "source": [
    "df.shape"
   ]
  },
  {
   "cell_type": "markdown",
   "id": "959c3051-c5ac-4300-bc12-db904f5188b5",
   "metadata": {},
   "source": [
    "## Colors"
   ]
  },
  {
   "cell_type": "code",
   "execution_count": null,
   "id": "b4142ce7-90f5-4f2b-8204-998762114940",
   "metadata": {},
   "outputs": [],
   "source": [
    "ALL_COLORS = [\n",
    "    GRAY,\n",
    "    LIGHT_GRAY,\n",
    "    RED,\n",
    "    TEAL,\n",
    "    BLUE,\n",
    "    ORANGE,\n",
    "    PINK,\n",
    "    YELLOW,\n",
    "    PURPLE,\n",
    "    *CATEGORICAL_PALETTE_ALTERNATIVE,\n",
    "]\n",
    "ALL_COLORS"
   ]
  },
  {
   "cell_type": "code",
   "execution_count": null,
   "id": "dba664bc-6b8b-4ecd-a329-101153f2ff28",
   "metadata": {},
   "outputs": [],
   "source": [
    "Color(ALL_COLORS[0]).to_string(), Color(ALL_COLORS[0]).to_string(hex=True)"
   ]
  },
  {
   "cell_type": "code",
   "execution_count": null,
   "id": "8cb005b8-19d0-424c-8a4e-dcf0e726f008",
   "metadata": {},
   "outputs": [],
   "source": [
    "hex_colors = [Color(c).to_string(hex=True) for c in ALL_COLORS]\n",
    "hex_colors"
   ]
  },
  {
   "cell_type": "markdown",
   "id": "b1ede089-3e05-416a-8849-e8a4a605cf54",
   "metadata": {},
   "source": [
    "## Data Preparation"
   ]
  },
  {
   "cell_type": "code",
   "execution_count": null,
   "id": "334184a4-f204-488f-ba38-1a3e0a1d04f0",
   "metadata": {},
   "outputs": [],
   "source": [
    "g = Group()\n",
    "xtab, _ = g.get_crosstabs(df)"
   ]
  },
  {
   "cell_type": "code",
   "execution_count": null,
   "id": "b71cdbc7-45bf-4cfc-8567-44449d7f9c52",
   "metadata": {},
   "outputs": [],
   "source": [
    "b = Bias()"
   ]
  },
  {
   "cell_type": "code",
   "execution_count": null,
   "id": "8ce170ed-020c-4adf-beec-32bb852811fa",
   "metadata": {},
   "outputs": [],
   "source": [
    "bdf = b.get_disparity_predefined_groups(\n",
    "    xtab,\n",
    "    original_df=df,\n",
    "    ref_groups_dict={\"race\": \"Caucasian\", \"sex\": \"Male\", \"age_cat\": \"25 - 45\"},\n",
    "    alpha=0.05,\n",
    "    check_significance=True,\n",
    "    mask_significance=True,\n",
    ")"
   ]
  },
  {
   "cell_type": "code",
   "execution_count": null,
   "id": "899a2c6a-aa4d-4271-9a45-3df2e0723077",
   "metadata": {},
   "outputs": [],
   "source": [
    "metrics = [\"fpr\", \"fdr\", \"tpr\"]\n",
    "disparity_tolerance = 1.25"
   ]
  },
  {
   "cell_type": "markdown",
   "id": "bb76bf53-ea43-4d02-bce7-a4c065d32b75",
   "metadata": {},
   "source": [
    "## Summary"
   ]
  },
  {
   "cell_type": "code",
   "execution_count": null,
   "id": "f25be721-ab95-44ac-92f3-17842174adc7",
   "metadata": {},
   "outputs": [],
   "source": [
    "ap.summary(bdf, metrics, fairness_threshold=disparity_tolerance)"
   ]
  },
  {
   "cell_type": "markdown",
   "id": "a9a98e91-675f-4dcc-b4d1-b6866f16600b",
   "metadata": {},
   "source": [
    "## Disparities"
   ]
  },
  {
   "cell_type": "code",
   "execution_count": null,
   "id": "c5c9f51e-e4de-4a81-9c82-995d5033b2a2",
   "metadata": {},
   "outputs": [],
   "source": [
    "ap.disparity(bdf, metrics, \"race\", fairness_threshold=disparity_tolerance)"
   ]
  },
  {
   "cell_type": "code",
   "execution_count": null,
   "id": "eaa9acb3-df38-43e5-a856-161180eaa036",
   "metadata": {},
   "outputs": [],
   "source": [
    "ap.disparity(\n",
    "    bdf,\n",
    "    metrics,\n",
    "    \"race\",\n",
    "    fairness_threshold=disparity_tolerance,\n",
    "    accessibility_mode=True,\n",
    ")"
   ]
  },
  {
   "cell_type": "code",
   "execution_count": null,
   "id": "e4f60d1b-9c58-44c4-ae65-94de541164e1",
   "metadata": {},
   "outputs": [],
   "source": [
    "ap.absolute(bdf, metrics, \"race\", fairness_threshold=disparity_tolerance)"
   ]
  },
  {
   "cell_type": "code",
   "execution_count": null,
   "id": "436a4c43-91e5-4a17-a4ed-ce18bc8d6a0a",
   "metadata": {},
   "outputs": [],
   "source": [
    "ap.disparity_absolute(bdf, metrics, \"race\", fairness_threshold=disparity_tolerance)"
   ]
  },
  {
   "cell_type": "code",
   "execution_count": null,
   "id": "59d2f0d8-773e-49a9-83f6-1af80c84f681",
   "metadata": {},
   "outputs": [],
   "source": [
    "# ap.disparity(bdf, metrics, \"sex\", fairness_threshold=disparity_tolerance)"
   ]
  },
  {
   "cell_type": "code",
   "execution_count": null,
   "id": "a425a3ce-eef3-4190-9b51-973dc9b6b6f9",
   "metadata": {},
   "outputs": [],
   "source": [
    "# ap.disparity(bdf, metrics, \"age_cat\", fairness_threshold=disparity_tolerance)"
   ]
  },
  {
   "cell_type": "markdown",
   "id": "0537e1f1-d71c-49ec-ba7b-42b7ab595a30",
   "metadata": {},
   "source": [
    "## Scatter"
   ]
  },
  {
   "cell_type": "code",
   "execution_count": null,
   "id": "892a4ca0-5249-4ed7-b4b9-f43b08534032",
   "metadata": {},
   "outputs": [],
   "source": [
    "# ?ap.scatter"
   ]
  },
  {
   "cell_type": "code",
   "execution_count": null,
   "id": "6f0c5989-6af1-4638-b8b1-04f33062fbb4",
   "metadata": {},
   "outputs": [],
   "source": [
    "ap.scatter(bdf, metrics[0], metrics[1], \"race\", fairness_threshold=disparity_tolerance)"
   ]
  },
  {
   "cell_type": "code",
   "execution_count": null,
   "id": "fea8ce25-78bb-4afa-86aa-17dcc1606b83",
   "metadata": {},
   "outputs": [],
   "source": [
    "ap.scatter(\n",
    "    bdf,\n",
    "    metrics[0],\n",
    "    metrics[1],\n",
    "    \"race\",\n",
    "    fairness_threshold=disparity_tolerance,\n",
    "    accessibility_mode=True,\n",
    ")"
   ]
  },
  {
   "cell_type": "markdown",
   "id": "ea934c1c-e3ea-4462-a614-1df2b3d8b1d0",
   "metadata": {},
   "source": [
    "---"
   ]
  }
 ],
 "metadata": {
  "kernelspec": {
   "display_name": "Python 3 (ipykernel)",
   "language": "python",
   "name": "python3"
  },
  "language_info": {
   "codemirror_mode": {
    "name": "ipython",
    "version": 3
   },
   "file_extension": ".py",
   "mimetype": "text/x-python",
   "name": "python",
   "nbconvert_exporter": "python",
   "pygments_lexer": "ipython3",
   "version": "3.7.15"
  }
 },
 "nbformat": 4,
 "nbformat_minor": 5
}
