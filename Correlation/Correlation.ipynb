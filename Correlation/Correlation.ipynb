{
 "cells": [
  {
   "cell_type": "code",
   "execution_count": null,
   "metadata": {},
   "outputs": [],
   "source": [
    "%load_ext autoreload\n",
    "%autoreload 2"
   ]
  },
  {
   "cell_type": "code",
   "execution_count": null,
   "metadata": {},
   "outputs": [],
   "source": [
    "import pandas as pd\n",
    "import altair as alt\n",
    "from math import sqrt\n",
    "from scipy.stats import pearsonr, rankdata\n",
    "from pandas._testing import assert_series_equal\n",
    "\n",
    "import pandamonium\n",
    "\n",
    "pd.set_option(\"precision\", 10)"
   ]
  },
  {
   "cell_type": "code",
   "execution_count": null,
   "metadata": {},
   "outputs": [],
   "source": [
    "pd.__version__"
   ]
  },
  {
   "cell_type": "code",
   "execution_count": null,
   "metadata": {},
   "outputs": [],
   "source": [
    "data = pd.read_json(\"https://raw.githubusercontent.com/vega/vega-datasets/master/data/penguins.json\")"
   ]
  },
  {
   "cell_type": "code",
   "execution_count": null,
   "metadata": {},
   "outputs": [],
   "source": [
    "data.head()"
   ]
  },
  {
   "cell_type": "code",
   "execution_count": null,
   "metadata": {},
   "outputs": [],
   "source": [
    "data.shape"
   ]
  },
  {
   "cell_type": "code",
   "execution_count": null,
   "metadata": {},
   "outputs": [],
   "source": [
    "data = data.clean.column_names()"
   ]
  },
  {
   "cell_type": "code",
   "execution_count": null,
   "metadata": {
    "scrolled": true
   },
   "outputs": [],
   "source": [
    "data.head()"
   ]
  },
  {
   "cell_type": "markdown",
   "metadata": {},
   "source": [
    "# Pearson's correlation"
   ]
  },
  {
   "cell_type": "code",
   "execution_count": null,
   "metadata": {},
   "outputs": [],
   "source": [
    "def pearson_corr(x, y):\n",
    "    mean_x = x.mean()\n",
    "    mean_y = y.mean()\n",
    "\n",
    "    xm = x - mean_x\n",
    "    ym = y - mean_y\n",
    "\n",
    "    numerator = (xm * ym).sum()\n",
    "    denominator = sqrt((xm ** 2).sum()) * sqrt((ym ** 2).sum())\n",
    "\n",
    "    return numerator / denominator"
   ]
  },
  {
   "cell_type": "code",
   "execution_count": null,
   "metadata": {},
   "outputs": [],
   "source": [
    "pearson_manual = data.corr(method=pearson_corr)\n",
    "pearson_manual"
   ]
  },
  {
   "cell_type": "code",
   "execution_count": null,
   "metadata": {},
   "outputs": [],
   "source": [
    "pearson = data.corr(method=\"pearson\")\n",
    "pearson"
   ]
  },
  {
   "cell_type": "code",
   "execution_count": null,
   "metadata": {},
   "outputs": [],
   "source": [
    "pearson.compare(pearson_manual)"
   ]
  },
  {
   "cell_type": "code",
   "execution_count": null,
   "metadata": {},
   "outputs": [],
   "source": [
    "data_nan = data.dropna(subset=[\"beak_length_mm\", \"beak_depth_mm\"])\n",
    "\n",
    "round(pearsonr(data_nan[\"beak_length_mm\"], data_nan[\"beak_depth_mm\"])[0], 10)"
   ]
  },
  {
   "cell_type": "markdown",
   "metadata": {},
   "source": [
    "# Spearman's rank correlation\n",
    "\n",
    "The Pearson correlation coefficient between the rank variables."
   ]
  },
  {
   "cell_type": "code",
   "execution_count": null,
   "metadata": {},
   "outputs": [],
   "source": [
    "def compare_rank_data_methods(data, col, method=\"first\"):\n",
    "    df_compare = pd.DataFrame()\n",
    "\n",
    "    data_nan = data.dropna(subset=[col])\n",
    "\n",
    "    df_compare[\"pandas\"] = data_nan[col].rank(\n",
    "        method=\"first\" if method == \"ordinal\" else method\n",
    "    )\n",
    "    \n",
    "    df_compare[\"scipy\"] = rankdata(\n",
    "        data_nan[col], method=\"ordinal\" if method == \"first\" else method\n",
    "    )\n",
    "\n",
    "    assert_series_equal(\n",
    "        df_compare[\"pandas\"], df_compare[\"scipy\"], check_dtype=False, check_names=False\n",
    "    )\n",
    "\n",
    "    return df_compare"
   ]
  },
  {
   "cell_type": "code",
   "execution_count": null,
   "metadata": {},
   "outputs": [],
   "source": [
    "compare_rank_data_methods(data, \"beak_length_mm\").head(10)"
   ]
  },
  {
   "cell_type": "code",
   "execution_count": null,
   "metadata": {},
   "outputs": [],
   "source": []
  }
 ],
 "metadata": {
  "kernelspec": {
   "display_name": "Python 3",
   "language": "python",
   "name": "python3"
  },
  "language_info": {
   "codemirror_mode": {
    "name": "ipython",
    "version": 3
   },
   "file_extension": ".py",
   "mimetype": "text/x-python",
   "name": "python",
   "nbconvert_exporter": "python",
   "pygments_lexer": "ipython3",
   "version": "3.6.10"
  }
 },
 "nbformat": 4,
 "nbformat_minor": 4
}
