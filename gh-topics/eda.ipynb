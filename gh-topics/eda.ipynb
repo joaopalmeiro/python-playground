{
 "cells": [
  {
   "cell_type": "markdown",
   "id": "muslim-shell",
   "metadata": {},
   "source": [
    "# Config"
   ]
  },
  {
   "cell_type": "code",
   "execution_count": null,
   "id": "second-burden",
   "metadata": {},
   "outputs": [],
   "source": [
    "%load_ext autoreload\n",
    "%autoreload 2"
   ]
  },
  {
   "cell_type": "code",
   "execution_count": null,
   "id": "macro-turner",
   "metadata": {},
   "outputs": [],
   "source": [
    "from pathlib import Path\n",
    "\n",
    "import pandas as pd"
   ]
  },
  {
   "cell_type": "markdown",
   "id": "premium-chemical",
   "metadata": {},
   "source": [
    "# Constants"
   ]
  },
  {
   "cell_type": "code",
   "execution_count": null,
   "id": "collect-plenty",
   "metadata": {},
   "outputs": [],
   "source": [
    "REPOS_FOLDER = \"repos\"\n",
    "\n",
    "PYTHON_DV_FILE = \"python_dv.json\"\n",
    "PYTHON_DV_PATH = Path(REPOS_FOLDER) / PYTHON_DV_FILE\n",
    "\n",
    "PYTHON_CLI_FILE = \"python_cli.json\"\n",
    "PYTHON_CLI_PATH = Path(REPOS_FOLDER) / PYTHON_CLI_FILE\n",
    "\n",
    "TOPICS_COL = \"topics\"\n",
    "REPO_COL = \"repo\""
   ]
  },
  {
   "cell_type": "markdown",
   "id": "vital-viewer",
   "metadata": {},
   "source": [
    "# Data"
   ]
  },
  {
   "cell_type": "markdown",
   "id": "076b6120",
   "metadata": {},
   "source": [
    "## Python Data Visualization"
   ]
  },
  {
   "cell_type": "code",
   "execution_count": null,
   "id": "dying-comfort",
   "metadata": {},
   "outputs": [],
   "source": [
    "df_dv = pd.read_json(PYTHON_DV_PATH)\n",
    "df_dv.head()"
   ]
  },
  {
   "cell_type": "code",
   "execution_count": null,
   "id": "integral-quebec",
   "metadata": {
    "scrolled": true
   },
   "outputs": [],
   "source": [
    "tidy_df_dv = df_dv.explode(TOPICS_COL)\n",
    "tidy_df_dv.head()"
   ]
  },
  {
   "cell_type": "markdown",
   "id": "3369dc54",
   "metadata": {},
   "source": [
    "## Python CLI"
   ]
  },
  {
   "cell_type": "code",
   "execution_count": null,
   "id": "4d2d998c",
   "metadata": {},
   "outputs": [],
   "source": [
    "df_cli = pd.read_json(PYTHON_CLI_PATH)\n",
    "df_cli.head()"
   ]
  },
  {
   "cell_type": "code",
   "execution_count": null,
   "id": "58fc1632",
   "metadata": {},
   "outputs": [],
   "source": [
    "tidy_df_cli = df_cli.explode(TOPICS_COL)\n",
    "tidy_df_cli.head()"
   ]
  },
  {
   "cell_type": "markdown",
   "id": "detailed-backing",
   "metadata": {},
   "source": [
    "# EDA"
   ]
  },
  {
   "cell_type": "markdown",
   "id": "a0386dc3",
   "metadata": {},
   "source": [
    "## Python Data Visualization"
   ]
  },
  {
   "cell_type": "code",
   "execution_count": null,
   "id": "false-delta",
   "metadata": {},
   "outputs": [],
   "source": [
    "tidy_df_dv[REPO_COL].nunique()"
   ]
  },
  {
   "cell_type": "code",
   "execution_count": null,
   "id": "introductory-explosion",
   "metadata": {},
   "outputs": [],
   "source": [
    "tidy_df_dv[TOPICS_COL].value_counts(dropna=False)"
   ]
  },
  {
   "cell_type": "markdown",
   "id": "7668ed4b",
   "metadata": {},
   "source": [
    "## Python CLI"
   ]
  },
  {
   "cell_type": "code",
   "execution_count": null,
   "id": "d020c899",
   "metadata": {},
   "outputs": [],
   "source": [
    "tidy_df_cli[REPO_COL].nunique()"
   ]
  },
  {
   "cell_type": "code",
   "execution_count": null,
   "id": "0ec9fd24",
   "metadata": {},
   "outputs": [],
   "source": [
    "tidy_df_cli[TOPICS_COL].value_counts(dropna=False)"
   ]
  },
  {
   "cell_type": "markdown",
   "id": "greater-sewing",
   "metadata": {},
   "source": [
    "---"
   ]
  }
 ],
 "metadata": {
  "kernelspec": {
   "display_name": "Python 3",
   "language": "python",
   "name": "python3"
  },
  "language_info": {
   "codemirror_mode": {
    "name": "ipython",
    "version": 3
   },
   "file_extension": ".py",
   "mimetype": "text/x-python",
   "name": "python",
   "nbconvert_exporter": "python",
   "pygments_lexer": "ipython3",
   "version": "3.8.7"
  }
 },
 "nbformat": 4,
 "nbformat_minor": 5
}
