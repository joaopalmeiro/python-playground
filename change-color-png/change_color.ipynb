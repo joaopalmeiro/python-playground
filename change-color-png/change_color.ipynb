{
 "cells": [
  {
   "cell_type": "code",
   "execution_count": null,
   "id": "85147ea8-ba86-4b50-8a39-3ded86ea84eb",
   "metadata": {},
   "outputs": [],
   "source": [
    "import numpy as np\n",
    "from PIL import Image, ImageColor"
   ]
  },
  {
   "cell_type": "markdown",
   "id": "c3f3fe4e-a93d-43e5-858e-28f1d1256341",
   "metadata": {},
   "source": [
    "- https://pillow.readthedocs.io/en/latest/reference/Image.html#PIL.Image.Image.getcolors\n",
    "- https://pillow.readthedocs.io/en/latest/reference/Image.html#PIL.Image.Image.save\n",
    "- https://publicitario.pt/application/files/3615/3688/1010/livro_reclamacoes-500x-207-w.png\n",
    "- https://martechwithme.com/how-to-change-color-multiple-images-python/"
   ]
  },
  {
   "cell_type": "code",
   "execution_count": null,
   "id": "de3135e2-0216-4d9f-8cf9-e7a29d25ea71",
   "metadata": {},
   "outputs": [],
   "source": [
    "FILENAME: str = \"livro_reclamacoes-500x-207-w.png\"\n",
    "\n",
    "ORIGINAL_COLOR: str = \"#ffffff\"\n",
    "NEW_COLOR: str = \"#667080\""
   ]
  },
  {
   "cell_type": "code",
   "execution_count": null,
   "id": "641a9949-ef39-4f7e-8501-b18b04982833",
   "metadata": {},
   "outputs": [],
   "source": [
    "with Image.open(FILENAME) as im:\n",
    "    print(im.convert(\"RGB\").getcolors(), end=\"\\n\" * 2)\n",
    "    print(*im.getcolors(), sep=\"\\n\")"
   ]
  },
  {
   "cell_type": "code",
   "execution_count": null,
   "id": "b5fe8704-96b5-44f7-88c2-9e451fb141d9",
   "metadata": {},
   "outputs": [],
   "source": [
    "from_color = ImageColor.getcolor(ORIGINAL_COLOR, \"RGB\")\n",
    "to_color = ImageColor.getcolor(NEW_COLOR, \"RGB\")\n",
    "\n",
    "print(f\"{from_color} → {to_color}\")"
   ]
  },
  {
   "cell_type": "code",
   "execution_count": null,
   "id": "38287b29-addf-4891-add7-3ffed0e5e17c",
   "metadata": {},
   "outputs": [],
   "source": [
    "with Image.open(FILENAME) as im:\n",
    "    data = np.array(im)\n",
    "\n",
    "    r1, g1, b1 = from_color\n",
    "    r2, g2, b2 = to_color\n",
    "\n",
    "    red, green, blue = data[:, :, 0], data[:, :, 1], data[:, :, 2]\n",
    "    mask = (red == r1) & (green == g1) & (blue == b1)\n",
    "    data[:, :, :3][mask] = [r2, g2, b2]\n",
    "\n",
    "    updated_im = Image.fromarray(data)\n",
    "    print(*updated_im.getcolors(), sep=\"\\n\")\n",
    "\n",
    "    updated_im.save(f\"updated_{FILENAME}\")"
   ]
  },
  {
   "cell_type": "markdown",
   "id": "4535f476-5c4b-4482-99d5-1fe4452457d5",
   "metadata": {},
   "source": [
    "---"
   ]
  }
 ],
 "metadata": {
  "kernelspec": {
   "display_name": "Python 3 (ipykernel)",
   "language": "python",
   "name": "python3"
  },
  "language_info": {
   "codemirror_mode": {
    "name": "ipython",
    "version": 3
   },
   "file_extension": ".py",
   "mimetype": "text/x-python",
   "name": "python",
   "nbconvert_exporter": "python",
   "pygments_lexer": "ipython3",
   "version": "3.7.12"
  }
 },
 "nbformat": 4,
 "nbformat_minor": 5
}
