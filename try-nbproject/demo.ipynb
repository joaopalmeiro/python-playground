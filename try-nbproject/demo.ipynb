{
 "cells": [
  {
   "cell_type": "markdown",
   "id": "67da610c-76de-4d7d-9237-f049a2d61f6e",
   "metadata": {},
   "source": [
    "# Demo"
   ]
  },
  {
   "cell_type": "markdown",
   "id": "0faa38e7-b503-49ba-a98c-77080159d674",
   "metadata": {},
   "source": [
    "- https://lamin.ai/docs/nbproject\n",
    "- https://github.com/laminlabs/nbproject/blob/0.5.2/nbproject/dev/_notebook.py\n",
    "- https://lamin.ai/docs/nbproject/quickstart\n",
    "- https://lamin.ai/docs/nbproject/nbproject.meta\n",
    "- https://github.com/laminlabs/nbproject/blob/0.5.2/nbproject/_header.py#L110 (`if \"nbproject\" not in nb.metadata:`)"
   ]
  },
  {
   "cell_type": "code",
   "execution_count": null,
   "id": "a2ec9496-0bfb-46cd-aa81-b39430c46244",
   "metadata": {},
   "outputs": [],
   "source": [
    "import json\n",
    "\n",
    "from nbproject.dev import read_notebook\n",
    "from nbproject import header, __version__, publish, meta; header()"
   ]
  },
  {
   "cell_type": "code",
   "execution_count": null,
   "id": "34c4dbef-f1b3-4424-843c-9a5fd6129de8",
   "metadata": {},
   "outputs": [],
   "source": [
    "meta.env"
   ]
  },
  {
   "cell_type": "code",
   "execution_count": null,
   "id": "86c60c6e-ee2d-40c7-992d-316b0aa9c622",
   "metadata": {},
   "outputs": [],
   "source": [
    "__version__"
   ]
  },
  {
   "cell_type": "code",
   "execution_count": null,
   "id": "d0b09282-35c8-4364-ad10-b6b2b648b620",
   "metadata": {},
   "outputs": [],
   "source": [
    "this_nb = read_notebook(\"demo.ipynb\")"
   ]
  },
  {
   "cell_type": "code",
   "execution_count": null,
   "id": "fc5be935-0504-4e09-86fc-66604c4877d7",
   "metadata": {},
   "outputs": [],
   "source": [
    "this_nb.metadata"
   ]
  },
  {
   "cell_type": "code",
   "execution_count": null,
   "id": "654714f3-6576-47f3-90f1-df8f76c059ec",
   "metadata": {},
   "outputs": [],
   "source": [
    "this_nb.cells"
   ]
  },
  {
   "cell_type": "code",
   "execution_count": null,
   "id": "3703971a-1fac-40e0-89ec-5f966f3dcaae",
   "metadata": {},
   "outputs": [],
   "source": [
    "with open(\"demo.ipynb\", \"r\") as f:\n",
    "    this_nb = json.loads(f.read())\n",
    "    \n",
    "print(json.dumps(this_nb, indent=2))"
   ]
  },
  {
   "cell_type": "code",
   "execution_count": null,
   "id": "a35ddad6-1edb-4aa6-ae36-1355087dbb84",
   "metadata": {},
   "outputs": [],
   "source": [
    "publish()"
   ]
  },
  {
   "cell_type": "markdown",
   "id": "f37e2ef7-8ece-4356-966b-05eeb36d4ee4",
   "metadata": {},
   "source": [
    "---"
   ]
  }
 ],
 "metadata": {
  "language_info": {
   "name": "python"
  }
 },
 "nbformat": 4,
 "nbformat_minor": 5
}
