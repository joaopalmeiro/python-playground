{
 "cells": [
  {
   "cell_type": "markdown",
   "id": "d0bc5eb5-b576-4052-8d8b-9fbe8231c04a",
   "metadata": {},
   "source": [
    "- https://pypi.org/project/visual_auditor/\n",
    "- https://github.com/poloclub/visual-auditor/tree/258c59d7052d4fe2a7b3fafc129a2184b4c25f8c/visual-auditor-package/notebook-widget\n",
    "- https://github.com/poloclub/visual-auditor/blob/258c59d7052d4fe2a7b3fafc129a2184b4c25f8c/visual-auditor-package/notebook-widget/visual_auditor/visual_auditor.py#L480\n",
    "- https://pypi.org/project/visual_auditor/#files"
   ]
  },
  {
   "cell_type": "code",
   "execution_count": null,
   "id": "e4d2d686-ead5-4374-9627-522ef8048b9c",
   "metadata": {},
   "outputs": [],
   "source": [
    "from visual_auditor.visual_auditor import find_slices_and_visualize\n",
    "\n",
    "import pandas as pd\n",
    "import numpy as np\n",
    "from sklearn.preprocessing import LabelEncoder\n",
    "from sklearn.ensemble import RandomForestClassifier"
   ]
  },
  {
   "cell_type": "code",
   "execution_count": null,
   "id": "9b742fd6-11fb-44de-99e5-69ab48464950",
   "metadata": {},
   "outputs": [],
   "source": [
    "DATA_URL: str = \"https://raw.githubusercontent.com/poloclub/visual-auditor/258c59d7052d4fe2a7b3fafc129a2184b4c25f8c/visual-auditor-package/notebook-widget/visual_auditor/data/adult.data\""
   ]
  },
  {
   "cell_type": "code",
   "execution_count": null,
   "id": "5971c8f9-8157-484d-98de-6218063bf769",
   "metadata": {},
   "outputs": [],
   "source": [
    "# Helper function for binning numerical features\n",
    "def bin_feature(feature):\n",
    "    bins = np.histogram_bin_edges(\n",
    "        adult_data[feature], bins=10, range=None, weights=None\n",
    "    )\n",
    "    adult_data[feature] = pd.cut(\n",
    "        adult_data[feature],\n",
    "        bins,\n",
    "        labels=[x for x in range(len(bins) - 1)],\n",
    "        right=True,\n",
    "        include_lowest=True,\n",
    "        duplicates=\"drop\",\n",
    "    )\n",
    "    intervals = []\n",
    "    for i in range(len(bins) - 1):\n",
    "        intervals.append(f\" {int(bins[i])} - {int(bins[i+1])}\")\n",
    "    return intervals"
   ]
  },
  {
   "cell_type": "code",
   "execution_count": null,
   "id": "d32130e6-6530-4fad-a10d-f97f2fe72405",
   "metadata": {},
   "outputs": [],
   "source": [
    "# Load Adult dataset\n",
    "adult_data = pd.read_csv(\n",
    "    DATA_URL,\n",
    "    names=[\n",
    "        \"Age\",\n",
    "        \"Workclass\",\n",
    "        \"Final Weight\",\n",
    "        \"Education\",\n",
    "        \"Education-Num\",\n",
    "        \"Marital Status\",\n",
    "        \"Occupation\",\n",
    "        \"Relationship\",\n",
    "        \"Race\",\n",
    "        \"Sex\",\n",
    "        \"Capital Gain\",\n",
    "        \"Capital Loss\",\n",
    "        \"Hours Per Week\",\n",
    "        \"Country\",\n",
    "        \"Target\",\n",
    "    ],\n",
    "    sep=r\"\\s*,\\s*\",\n",
    "    engine=\"python\",\n",
    "    na_values=\"?\",\n",
    ")\n",
    "\n",
    "# Drop NA values\n",
    "adult_data = adult_data.dropna()\n",
    "\n",
    "# Drop irrelevant fields\n",
    "adult_data = adult_data.drop(columns=[\"Final Weight\", \"Education-Num\"])\n",
    "\n",
    "# Bin numerical features\n",
    "encoders = {}\n",
    "encodings = {}\n",
    "numerical_features = [\"Age\", \"Capital Gain\", \"Capital Loss\", \"Hours Per Week\"]\n",
    "for feature in numerical_features:\n",
    "    encodings[feature] = bin_feature(feature)\n",
    "\n",
    "# Encode categorical features\n",
    "for column in adult_data.columns.difference(numerical_features):\n",
    "    if adult_data.dtypes[column] == object:\n",
    "        le = LabelEncoder()\n",
    "        adult_data[column] = le.fit_transform(adult_data[column])\n",
    "        encoders[column] = le\n",
    "        encodings[column] = le.classes_\n",
    "        print(column, le.classes_, le.transform(le.classes_))\n",
    "\n",
    "# Separate Target values\n",
    "X, y = adult_data[adult_data.columns.difference([\"Target\"])], adult_data[\"Target\"]\n",
    "\n",
    "# Train a classifier\n",
    "classifier = RandomForestClassifier(max_depth=5, n_estimators=10)\n",
    "classifier.fit(X, y)"
   ]
  },
  {
   "cell_type": "code",
   "execution_count": null,
   "id": "6798b648-47f7-4da7-8350-85aa9dcea5dd",
   "metadata": {},
   "outputs": [],
   "source": [
    "find_slices_and_visualize(classifier, (X, y))"
   ]
  },
  {
   "cell_type": "markdown",
   "id": "409b1987-4550-4499-9e8e-c69b40278da3",
   "metadata": {},
   "source": [
    "---"
   ]
  }
 ],
 "metadata": {
  "kernelspec": {
   "display_name": "Python 3 (ipykernel)",
   "language": "python",
   "name": "python3"
  },
  "language_info": {
   "codemirror_mode": {
    "name": "ipython",
    "version": 3
   },
   "file_extension": ".py",
   "mimetype": "text/x-python",
   "name": "python",
   "nbconvert_exporter": "python",
   "pygments_lexer": "ipython3",
   "version": "3.7.12"
  }
 },
 "nbformat": 4,
 "nbformat_minor": 5
}
