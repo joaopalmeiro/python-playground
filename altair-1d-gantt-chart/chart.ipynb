{
 "cells": [
  {
   "cell_type": "code",
   "execution_count": null,
   "id": "8bfbd589-fab8-40fd-a379-a54f6e164623",
   "metadata": {},
   "outputs": [],
   "source": [
    "from calendar import monthrange\n",
    "import datetime\n",
    "\n",
    "import altair as alt\n",
    "import pandas as pd"
   ]
  },
  {
   "cell_type": "markdown",
   "id": "611ffe28-261d-414f-ab79-ab73be32b006",
   "metadata": {},
   "source": [
    "- https://docs.python.org/3.7/library/calendar.html\n",
    "- https://altair-viz.github.io/user_guide/generated/core/altair.TimeInterval.html\n",
    "- https://vega.github.io/vega-lite/docs/datetime.html\n",
    "- https://vega.github.io/vega-lite/docs/scale.html#example-customizing-domain-for-a-time-scale\n",
    "- https://github.com/altair-viz/altair/issues/187\n",
    "- https://github.com/d3/d3-time-format\n",
    "- https://altair-viz.github.io/user_guide/times_and_dates.html\n",
    "- https://vega.github.io/vega/docs/expressions/#datetime-functions\n",
    "- https://stackoverflow.com/questions/60331614/how-to-highlight-a-bar-by-datetime-value-with-altair"
   ]
  },
  {
   "cell_type": "code",
   "execution_count": null,
   "id": "65b74583-b017-4d1e-90a3-b1608514b65a",
   "metadata": {},
   "outputs": [],
   "source": [
    "def get_date_end_month(year: int, month: int) -> str:\n",
    "    # month: 1–12\n",
    "    days = monthrange(year, month)[1]\n",
    "\n",
    "    return f\"{year}-{month:02}-{days}\""
   ]
  },
  {
   "cell_type": "code",
   "execution_count": null,
   "id": "b5f64cc3-fce6-4d57-9b02-407ff3f99394",
   "metadata": {},
   "outputs": [],
   "source": [
    "milestones = pd.DataFrame(\n",
    "    [\n",
    "        {\n",
    "            \"milestone\": \"Phase I\",\n",
    "            \"start\": \"2020-02-01\",\n",
    "            \"end\": get_date_end_month(2020, 7),\n",
    "        },\n",
    "        {\n",
    "            \"milestone\": \"Phase II\",\n",
    "            \"start\": \"2020-10-01\",\n",
    "            \"end\": get_date_end_month(2021, 1),\n",
    "        },\n",
    "        {\n",
    "            \"milestone\": \"Phase III\",\n",
    "            \"start\": \"2021-03-01\",\n",
    "            \"end\": get_date_end_month(2021, 6),\n",
    "        },\n",
    "        {\n",
    "            \"milestone\": \"Phase IV\",\n",
    "            \"start\": \"2021-08-01\",\n",
    "            \"end\": get_date_end_month(2022, 1),\n",
    "        },\n",
    "    ]\n",
    ")"
   ]
  },
  {
   "cell_type": "code",
   "execution_count": null,
   "id": "3d177198-dd54-4ef0-91be-0e4d08350c24",
   "metadata": {},
   "outputs": [],
   "source": [
    "milestones"
   ]
  },
  {
   "cell_type": "code",
   "execution_count": null,
   "id": "2ab61381-0fb1-4a9f-8472-a8fa99c3a7f2",
   "metadata": {},
   "outputs": [],
   "source": [
    "time_domain = [{\"year\": 2020, \"month\": 1}, {\"year\": 2022, \"month\": 2}]\n",
    "\n",
    "bar_height = 5\n",
    "line_height = 1\n",
    "\n",
    "# min_max = pd.DataFrame([{\"start\": milestones[\"start\"].iloc[0], \"end\": milestones[\"end\"].iloc[-1]}])\n",
    "min_max = pd.DataFrame([{\"start\": \"2020-01-01\", \"end\": \"2022-01-01\"}])\n",
    "\n",
    "gray = \"#595959\"\n",
    "accent = \"#3da1da\""
   ]
  },
  {
   "cell_type": "code",
   "execution_count": null,
   "id": "50a715e5-0553-4ccd-b139-622825d01798",
   "metadata": {},
   "outputs": [],
   "source": [
    "line = (\n",
    "    alt.Chart(min_max, height=line_height)\n",
    "    .mark_bar(size=line_height, color=gray)\n",
    "    .encode(\n",
    "        x=alt.X(\"start:T\", scale=alt.Scale(domain=time_domain), axis=None),\n",
    "        x2=alt.X2(\"end:T\"),\n",
    "    )\n",
    ")\n",
    "line"
   ]
  },
  {
   "cell_type": "code",
   "execution_count": null,
   "id": "aad6f7e0-7422-4143-87bd-94040f64cf15",
   "metadata": {},
   "outputs": [],
   "source": [
    "formatter = \"%b %Y\"\n",
    "labelExpr = \"datum.label === 'Feb 2020' ? ['(Start)', datum.label] : datum.label === 'Jan 2022' ? [datum.label, '(End)'] : timeFormat(datum.value, '%Y')\"\n",
    "labelAlignExpr = \"datum.label === 'Feb 2020' ? 'left' : datum.label === 'Jan 2022' ? 'right' : 'center'\"\n",
    "\n",
    "phase = \"Phase I\"\n",
    "\n",
    "bars = (\n",
    "    alt.Chart(milestones, height=bar_height)\n",
    "    .mark_bar(tooltip=True, size=bar_height)\n",
    "    .encode(\n",
    "        x=alt.X(\n",
    "            \"start:T\",\n",
    "            scale=alt.Scale(domain=time_domain),\n",
    "            axis=alt.Axis(\n",
    "                title=None,\n",
    "                domain=False,\n",
    "                grid=False,\n",
    "                values=[\"2020-02-01\", \"2021-01-01\", \"2022-01-31\"],\n",
    "                format=formatter,\n",
    "                labelExpr=labelExpr,\n",
    "                labelAlign={\"expr\": labelAlignExpr},\n",
    "                labelFont=\"Open Sans\",\n",
    "                tickColor=gray,\n",
    "                offset=3,\n",
    "                tickSize=10,\n",
    "                tickCap=\"round\",\n",
    "            ),\n",
    "        ),\n",
    "        x2=alt.X2(\"end:T\"),\n",
    "        color=alt.condition(\n",
    "            alt.datum.milestone == phase, alt.value(accent), alt.value(gray)\n",
    "        ),\n",
    "    )\n",
    ")\n",
    "\n",
    "bars"
   ]
  },
  {
   "cell_type": "code",
   "execution_count": null,
   "id": "832c3578-b9ca-4b37-8fcf-506da224b343",
   "metadata": {},
   "outputs": [],
   "source": [
    "(line + bars).properties(\n",
    "    usermeta={\n",
    "        \"embedOptions\": {\n",
    "            \"downloadFileName\": \"gantt_chart\",\n",
    "            \"scaleFactor\": 5,\n",
    "            \"renderer\": \"svg\",\n",
    "        }\n",
    "    }\n",
    ").resolve_scale(x=\"independent\").configure_view(strokeWidth=0)"
   ]
  },
  {
   "cell_type": "markdown",
   "id": "4f832927-d651-4db8-8ac4-17864b05836b",
   "metadata": {},
   "source": [
    "---"
   ]
  }
 ],
 "metadata": {
  "kernelspec": {
   "display_name": "Python 3 (ipykernel)",
   "language": "python",
   "name": "python3"
  },
  "language_info": {
   "codemirror_mode": {
    "name": "ipython",
    "version": 3
   },
   "file_extension": ".py",
   "mimetype": "text/x-python",
   "name": "python",
   "nbconvert_exporter": "python",
   "pygments_lexer": "ipython3",
   "version": "3.7.12"
  }
 },
 "nbformat": 4,
 "nbformat_minor": 5
}
