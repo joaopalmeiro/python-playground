{
 "cells": [
  {
   "cell_type": "markdown",
   "id": "cb0c9def-4f4c-4db9-bce8-010b7fdad738",
   "metadata": {},
   "source": [
    "- https://getdaft.io/learn/quickstart.html\n",
    "- https://getdaft.io/api_docs/expressions.html#daft.expressions.Expression.as_py"
   ]
  },
  {
   "cell_type": "code",
   "execution_count": null,
   "id": "f7023415-ee6e-4c74-b598-8b9bc5411920",
   "metadata": {},
   "outputs": [],
   "source": [
    "from daft import DataFrame, col, udf\n",
    "import numpy as np\n",
    "from PIL import Image"
   ]
  },
  {
   "cell_type": "code",
   "execution_count": null,
   "id": "119c22c6-fd16-4648-b5c4-cb36411e425c",
   "metadata": {},
   "outputs": [],
   "source": [
    "URL: str = \"https://github.com/Eventual-Inc/mnist-json/raw/master/mnist_handwritten_test.json.gz\""
   ]
  },
  {
   "cell_type": "code",
   "execution_count": null,
   "id": "1107de21-f43a-4cfe-a3c6-e509e162ed32",
   "metadata": {},
   "outputs": [],
   "source": [
    "images_df = DataFrame.from_json(URL)"
   ]
  },
  {
   "cell_type": "code",
   "execution_count": null,
   "id": "97d53423-1acf-422d-ab49-1a1aa3a99fe4",
   "metadata": {},
   "outputs": [],
   "source": [
    "images_df"
   ]
  },
  {
   "cell_type": "code",
   "execution_count": null,
   "id": "31ad2676-0f34-4b3e-ae16-21eb8a578f29",
   "metadata": {},
   "outputs": [],
   "source": [
    "images_df.show(10)"
   ]
  },
  {
   "cell_type": "code",
   "execution_count": null,
   "id": "523cf1d9-ab77-488c-ac7b-db75750c575f",
   "metadata": {},
   "outputs": [],
   "source": [
    "images_df = images_df.with_column(\n",
    "    \"image_2d\",\n",
    "    col(\"image\").as_py(np.ndarray).reshape(28, 28),\n",
    ")"
   ]
  },
  {
   "cell_type": "code",
   "execution_count": null,
   "id": "00f66e5c-a708-4b4c-8bb6-f8fd4a8dfb7b",
   "metadata": {},
   "outputs": [],
   "source": [
    "images_df.show(10)"
   ]
  },
  {
   "cell_type": "code",
   "execution_count": null,
   "id": "131d53dc-8135-4217-aca1-7c67018e7f40",
   "metadata": {},
   "outputs": [],
   "source": [
    "images_df = images_df.with_column(\n",
    "    \"pil_image\",\n",
    "    col(\"image_2d\").apply(lambda arr: Image.fromarray(arr.astype(np.uint8))),\n",
    ")"
   ]
  },
  {
   "cell_type": "code",
   "execution_count": null,
   "id": "e4e71218-3428-444b-a472-a602be4cb220",
   "metadata": {},
   "outputs": [],
   "source": [
    "images_df.show(10)"
   ]
  },
  {
   "cell_type": "markdown",
   "id": "917ff02c-2c62-4776-9fe2-f198b0f9248e",
   "metadata": {},
   "source": [
    "---"
   ]
  }
 ],
 "metadata": {
  "kernelspec": {
   "display_name": "Python 3 (ipykernel)",
   "language": "python",
   "name": "python3"
  },
  "language_info": {
   "codemirror_mode": {
    "name": "ipython",
    "version": 3
   },
   "file_extension": ".py",
   "mimetype": "text/x-python",
   "name": "python",
   "nbconvert_exporter": "python",
   "pygments_lexer": "ipython3",
   "version": "3.7.12"
  }
 },
 "nbformat": 4,
 "nbformat_minor": 5
}
